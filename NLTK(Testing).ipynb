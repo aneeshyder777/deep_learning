{
  "nbformat": 4,
  "nbformat_minor": 0,
  "metadata": {
    "colab": {
      "provenance": [],
      "authorship_tag": "ABX9TyORyNztToKrmprZaJ/uP3bH",
      "include_colab_link": true
    },
    "kernelspec": {
      "name": "python3",
      "display_name": "Python 3"
    },
    "language_info": {
      "name": "python"
    }
  },
  "cells": [
    {
      "cell_type": "markdown",
      "metadata": {
        "id": "view-in-github",
        "colab_type": "text"
      },
      "source": [
        "<a href=\"https://colab.research.google.com/github/aneeshyder777/deep_learning/blob/main/NLTK(Testing).ipynb\" target=\"_parent\"><img src=\"https://colab.research.google.com/assets/colab-badge.svg\" alt=\"Open In Colab\"/></a>"
      ]
    },
    {
      "cell_type": "code",
      "execution_count": 50,
      "metadata": {
        "colab": {
          "base_uri": "https://localhost:8080/",
          "height": 105
        },
        "id": "Oq8f5KBYwVlZ",
        "outputId": "c7de00c4-b45f-435b-f320-893e0ecedfc2"
      },
      "outputs": [
        {
          "output_type": "stream",
          "name": "stdout",
          "text": [
            "['The', 'crew', 'of', 'the', 'Mountain_Gang', 'discovered', 'many', 'discoveries', '.', 'Discovering', 'is', 'what', 'explorers', 'do', '.']\n",
            "['the', 'crew', 'of', 'the', 'mountain_gang', 'discov', 'mani', 'discoveri', '.', 'discov', 'is', 'what', 'explor', 'do', '.']\n",
            "['If', 'you', 'wish', 'to', 'make', 'an', 'mountain', 'from', 'scratch', ',', 'you', 'must', 'first', 'invent', 'the', 'universe', '.']\n",
            "['The', 'friend', 'of', 'Light', 'love', 'Ship', \"'s\"]\n"
          ]
        },
        {
          "output_type": "execute_result",
          "data": {
            "text/plain": [
              "'bad'"
            ],
            "application/vnd.google.colaboratory.intrinsic+json": {
              "type": "string"
            }
          },
          "metadata": {},
          "execution_count": 50
        }
      ],
      "source": [
        "import nltk\n",
        "\n",
        "#Getting Started With Python’s NLTK (Natural Langauge Toolkit)\n",
        "\n",
        "\n",
        "\"\"\"\n",
        "\n",
        "NLTK stands for Natural Language Toolkit. It's a comprehensive library for building Python programs that work with human language data. NLTK provides easy-to-use interfaces to over 50 corpora and lexical resources such as WordNet, along with a suite of text processing libraries for classification, tokenization, stemming, tagging, parsing, and semantic reasoning.\n",
        "\n",
        "Developed by Steven Bird and Edward Loper at the University of Pennsylvania, NLTK is widely used in academia and industry for tasks such as text mining, machine learning, and natural language processing research.\n",
        "\n",
        "Some of the key features of NLTK include:\n",
        "\n",
        "Corpora and Lexical Resources: NLTK provides access to a vast collection of text corpora, including the Brown Corpus, Reuters Corpus, and WordNet, a lexical database of English.\n",
        "\n",
        "Text Processing Modules: NLTK includes modules for tokenization, stemming, tagging, parsing, and semantic reasoning, making it easy to perform various text processing tasks.\n",
        "\n",
        "Machine Learning Algorithms: NLTK includes implementations of various machine learning algorithms for tasks such as classification, clustering, and information retrieval.\n",
        "\n",
        "Visualization Tools: NLTK provides tools for visualizing linguistic data, including frequency distributions, collocations, and dispersion plots.\n",
        "\n",
        "Overall, NLTK is a powerful and flexible toolkit for working with human language data in Python, making it an essential tool for researchers, developers, and students in the field of natural language processing.\n",
        "\"\"\"\n",
        "\n",
        "#nltk.download('averaged_perceptron_tagger')\n",
        "#nltk.download('tagsets')\n",
        "#nltk.download('wordnet')\n",
        "\n",
        "\n",
        "from nltk.stem import PorterStemmer\n",
        "from nltk.stem import WordNetLemmatizer\n",
        "\n",
        "from nltk.corpus import stopwords\n",
        "from nltk.tokenize import word_tokenize\n",
        "\n",
        "from nltk.tokenize import sent_tokenize, word_tokenize\n",
        "\n",
        "\n",
        "stemmer = PorterStemmer()\n",
        "string_for_stemming = \"\"\"\n",
        "The crew of the Mountain_Gang discovered many discoveries.\n",
        "Discovering is what explorers do.\"\"\"\n",
        "\n",
        "words = word_tokenize(string_for_stemming)\n",
        "\n",
        "print(words)\n",
        "\n",
        "stemmed_words = [stemmer.stem(word) for word in words]\n",
        "\n",
        "print(stemmed_words)\n",
        "\n",
        "sagan_quote = \"\"\"\n",
        " If you wish to make an mountain from scratch,\n",
        " you must first invent the universe.\"\"\"\n",
        "words_in_sagan_quote = word_tokenize(sagan_quote)\n",
        "\n",
        "print(words_in_sagan_quote)\n",
        "\n",
        "nltk.pos_tag(words_in_sagan_quote)\n",
        "\n",
        "#nltk.help.upenn_tagset()\n",
        "\n",
        "lemmatizer = WordNetLemmatizer()\n",
        "lemmatizer.lemmatize(\"Ship's\")\n",
        "string_for_lemmatizing = \"The friends of Light love Ship's\"\n",
        "words = word_tokenize(string_for_lemmatizing)\n",
        "\n",
        "lemmatized_words = [lemmatizer.lemmatize(word) for word in words]\n",
        "\n",
        "print(lemmatized_words)\n",
        "\n",
        "lemmatizer.lemmatize(\"worst\", pos=\"a\")\n",
        "\n",
        "\n",
        "\n"
      ]
    }
  ]
}